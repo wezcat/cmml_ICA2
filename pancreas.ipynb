{
 "cells": [
  {
   "cell_type": "code",
   "execution_count": null,
   "metadata": {},
   "outputs": [],
   "source": [
    "import scanpy as sc\n",
    "import os \n",
    "os.chdir(\"../../\")\n",
    "import scnet as sn\n",
    "\n",
    "def hvg_batch(adata, batch_key=None, target_genes=2000, flavor='cell_ranger', n_bins=20, adataOut=False):\n",
    "    adata_hvg = adata if adataOut else adata.copy()\n",
    "    n_batches = len(adata_hvg.obs[batch_key].cat.categories)\n",
    "    sc.pp.highly_variable_genes(adata_hvg,\n",
    "                                flavor=flavor, \n",
    "                                n_top_genes=target_genes,\n",
    "                                n_bins=n_bins, \n",
    "                                batch_key=batch_key)\n",
    "    nbatch1_dispersions = adata_hvg