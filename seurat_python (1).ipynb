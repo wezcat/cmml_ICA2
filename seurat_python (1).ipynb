{
 "cells": [
  {
   "cell_type": "code",
   "execution_count": 1,
   "id": "5d38bb23-5c5f-4e72-ad30-103f410e6c27",
   "metadata": {},
   "outputs": [
    {
     "name": "stderr",
     "output_type": "stream",
     "text": [
      "/root/miniconda3/envs/cmml/lib/python3.11/site-packages/IPython/core/interactiveshell.py:3577: FutureWarning: In function `nmi`, argument `group1` was renamed to `cluster_key`.\n",
      "  exec(code_obj, self.user_global_ns, self.user_ns)\n",
      "/tmp/ipykernel_1267/4244921936.py:24: FutureWarning: In function `nmi`, argument `group2` was renamed to `label_key`.\n",
      "  results[\"NMI_cluster/label\"] = scib.metrics.nmi(ad, group1=pred_key, group2=label_key)\n",
      "/root/miniconda3/envs/cmml/lib/python3.11/site-packages/IPython/core/interactiveshell.py:3577: FutureWarning: In function `ari`, argument `group1` was renamed to `cluster_key`.\n",
      "  exec(code_obj, self.user_global_ns, self.user_ns)\n",
      "/tmp/ipykernel_1267/4244921936.py:25: FutureWarning: In function `ari`, argument `group2` was renamed to `label_key`.\n",
      "  results[\"ARI_cluster/label\"] = scib.metrics.ari(ad, group1=pred_key, group2=label_key)\n"
     ]
    },
    {
     "name": "stdout",
     "output_type": "stream",
     "text": [
      "mean silhouette per group:                     silhouette_score\n",
      "group                               \n",
      "acinar                      0.813325\n",
      "activated_stellate          0.775810\n",
      "alpha                       0.755704\n",
      "beta                        0.786396\n",
      "delta                       0.832261\n",
      "ductal                      0.836106\n",
      "endothelial                 0.832032\n",
      "epsilon                     0.883663\n",
      "gamma                       0.792618\n",
      "macrophage                  0.809616\n",
      "mast                        0.847247\n",
      "quiescent_stellate          0.776184\n",
      "schwann                     0.816892\n",
      "t_cell                      0.899963\n",
      "isolated labels: no more than 4 batches per label\n",
      "isolated labels: ['t_cell']\n",
      "Recompute neighbors on rep X_seurat instead of None\n"
     ]
    },
    {
     "name": "stderr",
     "output_type": "stream",
     "text": [
      "/root/miniconda3/envs/cmml/lib/python3.11/site-packages/scib/metrics/isolated_labels.py:311: FutureWarning: The default of observed=False is deprecated and will be changed to True in a future version of pandas. Pass observed=False to retain current behavior or observed=True to adopt the future default and silence this warning.\n",
      "  batch_per_lab = tmp.groupby(label_key).agg({batch_key: \"count\"})\n"
     ]
    },
    {
     "name": "stdout",
     "output_type": "stream",
     "text": [
      "Cluster for iso_label_0.2 with leiden\n"
     ]
    },
    {
     "name": "stderr",
     "output_type": "stream",
     "text": [
      "/root/miniconda3/envs/cmml/lib/python3.11/site-packages/scib/metrics/clustering.py:96: FutureWarning: In the future, the default backend for leiden will be igraph instead of leidenalg.\n",
      "\n",
      " To achieve the future defaults please pass: flavor=\"igraph\" and n_iterations=2.  directed must also be False to work with igraph's implementation.\n",
      "  cluster_function(adata, resolution=res, key_added=resolution_key, **kwargs)\n"
     ]
    },
    {
     "name": "stdout",
     "output_type": "stream",
     "text": [
      "resolution: 0.2, max_f1: 0.09032258064516129\n",
      "Cluster for iso_label_0.4 with leiden\n",
      "resolution: 0.4, max_f1: 0.09032258064516129\n",
      "Cluster for iso_label_0.6 with leiden\n",
      "resolution: 0.6, max_f1: 0.09032258064516129\n",
      "Cluster for iso_label_0.8 with leiden\n",
      "resolution: 0.8, max_f1: 0.09032258064516129\n",
      "Cluster for iso_label_1.0 with leiden\n",
      "resolution: 1.0, max_f1: 0.09032258064516129\n",
      "Cluster for iso_label_1.2 with leiden\n",
      "resolution: 1.2, max_f1: 0.09032258064516129\n",
      "Cluster for iso_label_1.4 with leiden\n",
      "resolution: 1.4, max_f1: 0.09032258064516129\n",
      "Cluster for iso_label_1.6 with leiden\n",
      "resolution: 1.6, max_f1: 0.09032258064516129\n",
      "Cluster for iso_label_1.8 with leiden\n",
      "resolution: 1.8, max_f1: 0.09032258064516129\n",
      "Cluster for iso_label_2.0 with leiden\n",
      "resolution: 2.0, max_f1: 0.12962962962962962\n",
      "optimised clustering against cell_type\n",
      "optimal cluster resolution: 2.0\n",
      "optimal score: 0.12962962962962962\n",
      "t_cell: 0.12962962962962962\n",
      "scIB integration metrics:\n",
      "NMI_cluster/label: 1.0\n",
      "ARI_cluster/label: 1.0\n",
      "ASW_label: 0.6207985133252425\n",
      "ASW_label/batch: 0.8184154199327823\n",
      "isolated_label_F1: 0.12962962962962962\n",
      "graph_conn: 0.983395565536911\n"
     ]
    },
    {
     "name": "stderr",
     "output_type": "stream",
     "text": [
      "/root/miniconda3/envs/cmml/lib/python3.11/site-packages/scib/metrics/graph_connectivity.py:56: FutureWarning: pandas.value_counts is deprecated and will be removed in a future version. Use pd.Series(obj).value_counts() instead.\n",
      "  tab = pd.value_counts(labels)\n",
      "/root/miniconda3/envs/cmml/lib/python3.11/site-packages/scib/metrics/graph_connectivity.py:56: FutureWarning: pandas.value_counts is deprecated and will be removed in a future version. Use pd.Series(obj).value_counts() instead.\n",
      "  tab = pd.value_counts(labels)\n",
      "/root/miniconda3/envs/cmml/lib/python3.11/site-packages/scib/metrics/graph_connectivity.py:56: FutureWarning: pandas.value_counts is deprecated and will be removed in a future version. Use pd.Series(obj).value_counts() instead.\n",
      "  tab = pd.value_counts(labels)\n",
      "/root/miniconda3/envs/cmml/lib/python3.11/site-packages/scib/metrics/graph_connectivity.py:56: FutureWarning: pandas.value_counts is deprecated and will be removed in a future version. Use pd.Series(obj).value_counts() instead.\n",
      "  tab = pd.value_counts(labels)\n",
      "/root/miniconda3/envs/cmml/lib/python3.11/site-packages/scib/metrics/graph_connectivity.py:56: FutureWarning: pandas.value_counts is deprecated and will be removed in a future version. Use pd.Series(obj).value_counts() instead.\n",
      "  tab = pd.value_counts(labels)\n",
      "/root/miniconda3/envs/cmml/lib/python3.11/site-packages/scib/metrics/graph_connectivity.py:56: FutureWarning: pandas.value_counts is deprecated and will be removed in a future version. Use pd.Series(obj).value_counts() instead.\n",
      "  tab = pd.value_counts(labels)\n",
      "/root/miniconda3/envs/cmml/lib/python3.11/site-packages/scib/metrics/graph_connectivity.py:56: FutureWarning: pandas.value_counts is deprecated and will be removed in a future version. Use pd.Series(obj).value_counts() instead.\n",
      "  tab = pd.value_counts(labels)\n",
      "/root/miniconda3/envs/cmml/lib/python3.11/site-packages/scib/metrics/graph_connectivity.py:56: FutureWarning: pandas.value_counts is deprecated and will be removed in a future version. Use pd.Series(obj).value_counts() instead.\n",
      "  tab = pd.value_counts(labels)\n",
      "/root/miniconda3/envs/cmml/lib/python3.11/site-packages/scib/metrics/graph_connectivity.py:56: FutureWarning: pandas.value_counts is deprecated and will be removed in a future version. Use pd.Series(obj).value_counts() instead.\n",
      "  tab = pd.value_counts(labels)\n",
      "/root/miniconda3/envs/cmml/lib/python3.11/site-packages/scib/metrics/graph_connectivity.py:56: FutureWarning: pandas.value_counts is deprecated and will be removed in a future version. Use pd.Series(obj).value_counts() instead.\n",
      "  tab = pd.value_counts(labels)\n",
      "/root/miniconda3/envs/cmml/lib/python3.11/site-packages/scib/metrics/graph_connectivity.py:56: FutureWarning: pandas.value_counts is deprecated and will be removed in a future version. Use pd.Series(obj).value_counts() instead.\n",
      "  tab = pd.value_counts(labels)\n",
      "/root/miniconda3/envs/cmml/lib/python3.11/site-packages/scib/metrics/graph_connectivity.py:56: FutureWarning: pandas.value_counts is deprecated and will be removed in a future version. Use pd.Series(obj).value_counts() instead.\n",
      "  tab = pd.value_counts(labels)\n",
      "/root/miniconda3/envs/cmml/lib/python3.11/site-packages/scib/metrics/graph_connectivity.py:56: FutureWarning: pandas.value_counts is deprecated and will be removed in a future version. Use pd.Series(obj).value_counts() instead.\n",
      "  tab = pd.value_counts(labels)\n",
      "/root/miniconda3/envs/cmml/lib/python3.11/site-packages/scib/metrics/graph_connectivity.py:56: FutureWarning: pandas.value_counts is deprecated and will be removed in a future version. Use pd.Series(obj).value_counts() instead.\n",
      "  tab = pd.value_counts(labels)\n"
     ]
    }
   ],
   "source": [
    "import scanpy as sc\n",
    "import scib\n",
    "from scib.metrics import metrics\n",
    "import numpy as np\n",
    "\n",
    "# 加载R导出的h5ad\n",
    "ad = sc.read_h5ad(\"pancreasseurat_integrated (1).h5ad\")\n",
    "\n",
    "# 设定 embedding 名（假如用的是X_seurat）\n",
    "embedding_key = \"X_seurat\"\n",
    "label_key = \"cell_type\"\n",
    "batch_key = \"study\"\n",
    "pred_key = \"pred_label\" if \"pred_label\" in ad.obs else \"cell_type\"\n",
    "\n",
    "# 指标计算\n",
    "results = {}\n",
    "\n",
    "# cluster NMI/ARI（如果你有聚类结果，比如leiden）\n",
    "if \"leiden\" in ad.obs:\n",
    "    results[\"NMI_cluster/label\"] = scib.metrics.nmi(ad, group1=\"leiden\", group2=label_key)\n",
    "    results[\"ARI_cluster/label\"] = scib.metrics.ari(ad, group1=\"leiden\", group2=label_key)\n",
    "else:\n",
    "    # 没有聚类时，可用pred_label与cell_type对比\n",
    "    results[\"NMI_cluster/label\"] = scib.metrics.nmi(ad, group1=pred_key, group2=label_key)\n",
    "    results[\"ARI_cluster/label\"] = scib.metrics.ari(ad, group1=pred_key, group2=label_key)\n",
    "\n",
    "# ASW_label\n",
    "results[\"ASW_label\"] = scib.metrics.silhouette(ad, label_key=label_key, embed=embedding_key)\n",
    "# ASW_label/batch\n",
    "results[\"ASW_label/batch\"] = scib.metrics.silhouette_batch(ad, label_key=label_key, batch_key=batch_key, embed=embedding_key)\n",
    "\n",
    "\n",
    "\n",
    "# isolated_label_F1\n",
    "\n",
    "# isolated_label_F1\n",
    "results[\"isolated_label_F1\"] = scib.metrics.isolated_labels_f1(ad, label_key=label_key, batch_key=batch_key, embed=embedding_key)\n",
    "# graph connectivity\n",
    "sc.pp.neighbors(ad, use_rep=embedding_key)\n",
    "\n",
    "# 再跑graph connectivity\n",
    "results[\"graph_conn\"] = scib.metrics.graph_connectivity(ad, label_key=label_key)\n",
    "print(\"scIB integration metrics:\")\n",
    "for k, v in results.items():\n",
    "    print(f\"{k}: {v}\")\n"
   ]
  },
  {
   "cell_type": "code",
   "execution_count": null,
   "id": "a28e27e4-a15e-43fc-b62f-06d561df91fc",
   "metadata": {},
   "outputs": [],
   "source": []
  }
 ],
 "metadata": {
  "kernelspec": {
   "display_name": "cmml",
   "language": "python",
   "name": "cmml"
  },
  "language_info": {
   "codemirror_mode": {
    "name": "ipython",
    "version": 3
   },
   "file_extension": ".py",
   "mimetype": "text/x-python",
   "name": "python",
   "nbconvert_exporter": "python",
   "pygments_lexer": "ipython3",
   "version": "3.11.9"
  }
 },
 "nbformat": 4,
 "nbformat_minor": 5
}
